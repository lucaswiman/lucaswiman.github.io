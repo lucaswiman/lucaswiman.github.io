{
 "cells": [
  {
   "cell_type": "markdown",
   "metadata": {},
   "source": [
    "# Sandboxing code on MacOS"
   ]
  },
  {
   "cell_type": "markdown",
   "metadata": {},
   "source": [
    "This post covers some experimentation I did with the MacOS `sandbox-exec` command. The goal is to be able to run and evaluate Python libraries while significantly reducing the risk of a supply chain attack installing malware on my computer or exfiltrating data from my computer.\n",
    "\n",
    "## Bash Script\n",
    "\n",
    "The bash script I wrote that inspired this post can be found [here](https://gist.github.com/lucaswiman/1cec6584015149f0df1bb24c875a0709). Please comment with improvements/suggestions!\n",
    "\n",
    "## Basics"
   ]
  },
  {
   "cell_type": "markdown",
   "metadata": {},
   "source": [
    "\n",
    "The DSL used by `sandbox-exec` must start with `(version 1)`, seemingly the only version in existence as of 2023.\n",
    "\n",
    "The rules consist of parenthesis-enclosed rules of the form `([deny/allow] [permissions] [predicates])`. Later rules have higher precedence.\n",
    "\n",
    "### Permissions\n",
    "\n",
    "The most important permissions are:\n",
    "* `default`: Matches any permission, e.g. `(allow default)` or `(deny default)`. The latter is probably useful for running untrusted code (e.g. a new pypi library).\n",
    "* `file*`:\n",
    "  * `file-read-metadata`, `file-read-data`, ...\n",
    "  * `file-write-data`, ...\n",
    "* `network*`:\n",
    "  * `network-outbound`, e.g. `(deny network-outbound (remote ip \"*:80\"))` disallows outbound connections to port 80.\n",
    "  * `network-bind`. You probably want to leave this one `deny` unless you know you need it, so granting `network-*` is probably overly broad.\n",
    "* `sysctl-read`. This is needed for code intended to run on multiple OSes, e.g. Python's `os.uname()` method fails without this permission. I don't know how to make this more restricted. You probably don't want to grant `sysctl-write` if you can avoid it.\n",
    "* `mach*` and `ipc-posix-shm`. I needed to grant these to allow audio (see bash script below), though I'm ignorant of what they do.\n",
    "\n",
    "\n",
    "Permissions support globbing, e.g. `file*` grants `file-read-data` and `file-write-data` permissions. \n",
    "\n",
    "The most complete listing can be found in [this reverse engineered guide](https://reverse.put.as/wp-content/uploads/2011/09/Apple-Sandbox-Guide-v1.0.pdf)\n",
    "\n",
    "\n",
    "### Predicates\n",
    "\n",
    "These are enclosed in parentheses:\n",
    "* `(literal \"some literal\")`\n",
    "* `(subpath \"/path/to/dir\")`\n",
    "* `(regex #\"^/usr/lib/*\")`\n",
    "* `([remote/local] ip \"host:port\")`, e.g. `(remote ip \"*:80\")`. Annoyingly, the host must be either `*` or `localhost`, which makes it impossible to only allow particular hosts. There exist firewalling applications which can do that for particular processes, but alas not supported here.\n",
    "* `(require-any [predicates])` or `(require-all [predicates])` disjunction/conjunction of predicates.\n",
    "\n",
    "## Examples:\n",
    "\n",
    "\n",
    "\n"
   ]
  },
  {
   "cell_type": "markdown",
   "metadata": {},
   "source": [
    "### Deny network access"
   ]
  },
  {
   "cell_type": "code",
   "execution_count": 2,
   "metadata": {},
   "outputs": [
    {
     "name": "stdout",
     "output_type": "stream",
     "text": [
      "curl: (7) Failed to connect to example.com port 80 after 7 ms: Couldn't connect to server\n"
     ]
    },
    {
     "ename": "",
     "evalue": "7",
     "output_type": "error",
     "traceback": []
    }
   ],
   "source": [
    "sandbox-exec -p '\n",
    "(version 1)\n",
    "(allow default)\n",
    "(deny network-outbound (remote ip \"*:80\"))\n",
    "' curl http://example.com  # fails"
   ]
  },
  {
   "cell_type": "code",
   "execution_count": 3,
   "metadata": {},
   "outputs": [
    {
     "name": "stdout",
     "output_type": "stream",
     "text": [
      "  % Total    % Received % Xferd  Average Speed   Time    Time     Time  Current\n",
      "                                 Dload  Upload   Total   Spent    Left  Speed\n",
      "100  1256  100  1256    0     0  17414      0 --:--:-- --:--:-- --:--:-- 19323\n"
     ]
    }
   ],
   "source": [
    "sandbox-exec -p '\n",
    "(version 1)\n",
    "(allow default)\n",
    "(deny network-outbound (remote ip \"*:80\"))\n",
    "' curl https://example.com > /dev/null # succeeds"
   ]
  },
  {
   "cell_type": "markdown",
   "metadata": {},
   "source": [
    "### Deny file writes"
   ]
  },
  {
   "cell_type": "code",
   "execution_count": 5,
   "metadata": {},
   "outputs": [
    {
     "name": "stdout",
     "output_type": "stream",
     "text": [
      "touch: foo: Operation not permitted\n"
     ]
    },
    {
     "ename": "",
     "evalue": "1",
     "output_type": "error",
     "traceback": []
    }
   ],
   "source": [
    "sandbox-exec -p '\n",
    "(version 1)\n",
    "(allow default)\n",
    "(deny file-write*)\n",
    "' touch foo"
   ]
  },
  {
   "cell_type": "markdown",
   "metadata": {},
   "source": [
    "### Only allow writes to CWD"
   ]
  },
  {
   "cell_type": "code",
   "execution_count": 7,
   "metadata": {},
   "outputs": [
    {
     "name": "stdout",
     "output_type": "stream",
     "text": [
      "touch: /tmp/foo: Operation not permitted\n"
     ]
    },
    {
     "ename": "",
     "evalue": "1",
     "output_type": "error",
     "traceback": []
    }
   ],
   "source": [
    "sandbox-exec -p \"\n",
    "(version 1)\n",
    "(allow default)\n",
    "(deny file-write*)\n",
    "(allow file-write*\n",
    "  (subpath \\\"$PWD\\\")\n",
    ")\n",
    "\" touch foo  # succeeds\n",
    "\n",
    "sandbox-exec -p \"\n",
    "(version 1)\n",
    "(allow default)\n",
    "(deny file-write*)\n",
    "(allow file-write*\n",
    "  (subpath \\\"$PWD\\\")\n",
    ")\n",
    "\" touch /tmp/foo  # fails"
   ]
  },
  {
   "cell_type": "markdown",
   "metadata": {},
   "source": [
    "Note that because of how /tmp and /var are mapped to /private, naively granting permissions to PWD will not work in those cases:"
   ]
  },
  {
   "cell_type": "code",
   "execution_count": 11,
   "metadata": {},
   "outputs": [
    {
     "name": "stdout",
     "output_type": "stream",
     "text": [
      "success: /private\n",
      "touch: /tmp/asdf/foo: Operation not permitted\n",
      "failure: /tmp\n"
     ]
    }
   ],
   "source": [
    "mkdir -p /tmp/asdf\n",
    "sandbox-exec -p \"\n",
    "(version 1)\n",
    "(allow default)\n",
    "(deny file-write*)\n",
    "(allow file-write*\n",
    "  (subpath \\\"/private/tmp/asdf\\\")\n",
    ")\n",
    "\" touch /tmp/asdf/foo && echo \"success: /private\"\n",
    "\n",
    "sandbox-exec -p \"\n",
    "(version 1)\n",
    "(allow default)\n",
    "(deny file-write*)\n",
    "(allow file-write*\n",
    "  (subpath \\\"/tmp/asdf\\\")\n",
    ")\n",
    "\" touch /tmp/asdf/foo || echo \"failure: /tmp\""
   ]
  },
  {
   "cell_type": "markdown",
   "metadata": {},
   "source": [
    "Overly broad rules can cause unexpected problems. In particular, many UNIX command do not work if they cannot read parent directories of the current directory, especially if they cannot read `/`:"
   ]
  },
  {
   "cell_type": "code",
   "execution_count": 13,
   "metadata": {},
   "outputs": [
    {
     "name": "stdout",
     "output_type": "stream",
     "text": [
      "Abort trap: 6\n",
      "failure\n",
      "success\n"
     ]
    }
   ],
   "source": [
    "sandbox-exec -p \"\n",
    "(version 1)\n",
    "(allow default)\n",
    "(deny file*)\n",
    "(allow file-read*\n",
    "  (subpath \\\"/bin\\\")\n",
    "  (subpath \\\"/private/tmp/asdf\\\")\n",
    ")\n",
    "\" /bin/ls /private/tmp/asdf || echo 'failure'\n",
    "\n",
    "\n",
    "sandbox-exec -p '\n",
    "(version 1)\n",
    "(allow default)\n",
    "(deny file*)\n",
    "(allow file-read*\n",
    "  (subpath \"/bin\")\n",
    "  (subpath \"/private/tmp/asdf\")\n",
    "  (literal \"/\")  ; required to do ~anything related to reading directories\n",
    ")\n",
    "' /bin/ls /private/tmp/asdf > /dev/null && echo 'success'"
   ]
  },
  {
   "cell_type": "markdown",
   "metadata": {},
   "source": [
    "### Running Python\n",
    "\n",
    "Python is particularly obnoxious to sandbox because it scatters files over so much of the filesystem. You basically have to ask python what files it needs, then grant the subprocess at least read access to those files.\n",
    "\n",
    "You can grant `file-read*` access to `sys.base_prefix`, maybe with some extra futzing for virtualenvs:"
   ]
  },
  {
   "cell_type": "code",
   "execution_count": 22,
   "metadata": {},
   "outputs": [
    {
     "name": "stdout",
     "output_type": "stream",
     "text": [
      "hello!\n"
     ]
    }
   ],
   "source": [
    "sandbox-exec -p \"\n",
    "(version 1)\n",
    "(allow default)\n",
    "(deny file*)\n",
    "(allow file-read*\n",
    "  (subpath \\\"$(python -c 'import sys; print(sys.base_prefix)')\\\")\n",
    "  (literal \\\"/\\\")\n",
    ")\n",
    "\" python -c 'import sys; print(\"hello!\")'"
   ]
  },
  {
   "cell_type": "markdown",
   "metadata": {},
   "source": [
    "Then there is the issue of installing dependencies while still disallowing most network access. The best solution I've found to this is run `devpi`, a caching/proxying server for pypi, then set:\n",
    "\n",
    "```bash\n",
    "PIP_INDEX_URL=\"http://127.0.0.1:$PYPI_PROXY_PORT/root/pypi/+simple/\"\n",
    "```\n",
    "And add `(allow network-outbound (remote ip \"localhost:'$PYPI_PROXY_PORT'\"))` to your rule set."
   ]
  },
  {
   "cell_type": "markdown",
   "metadata": {},
   "source": [
    "## Isn't `sandbox-exec` deprecated?\n",
    "\n",
    "That is indeed what the man page says. The code in `/usr/share/sandbox` shows that the sandboxing DSL is widely used for running MacOS services, so it's unlikely to be removed soon. That said, while it may _stop working_ in a future OS update, I don't think it will silently fail.\n",
    "\n",
    "Note that the `trace` feature mentioned in the 2011 reverse-engineered guide appears to have been removed. I couldn't get it working in Ventura 13.4. There is further discussion in [this stackoverflow thread](https://stackoverflow.com/a/61880980/303931).\n",
    "\n",
    "## Debugging\n",
    "\n",
    "Unfortunately, Apple has made this harder with the apparent removal of the `trace` command, but sandboxd does still send logs about what it blocks. You can see these logs with:\n",
    "```bash\n",
    "log stream --style syslog | grep -i sandbox\n",
    "```\n",
    "\n",
    "## Caution about environment variables\n",
    "\n",
    "By default `sandbox-exec` passes all environment variables to the subprocess, so be careful if you store any secrets in environment variables. Blocking network should reduce the attack surface of any API tokens that may be in the environment.\n",
    "\n",
    "## Why not use Docker for Mac?\n",
    "\n",
    "Docker for Mac works well. I would recommend using it for many tasks, and I do use it. However, it will not allow you to run MacOS code natively, which is important for many command line tools. \n",
    "\n",
    "It requires overhead (Docker must be running; uses up memory; I might forget to kill a container, etc.) It's also a little frustrating that the easiest way to sandbox code in MacOS is to effectively use a different OS.\n",
    "\n",
    "Most importantly, I cannot use it for work without obtaining a commercial license, which I'm sure my employer would pay for, but I hate filling out expense reports."
   ]
  },
  {
   "cell_type": "markdown",
   "metadata": {},
   "source": [
    "## References:\n",
    "* Mozilla has a useful reference [rule set they use for nightly builds of Firefox](https://wiki.mozilla.org/Sandbox/OS_X_Rule_Set).\n",
    "* The most useful reference I found was [this PDF reverse-engineering the DSL](https://reverse.put.as/wp-content/uploads/2011/09/Apple-Sandbox-Guide-v1.0.pdf).\n",
    "* Playing sound was from [this post](https://mybyways.com/blog/creating-a-macos-sandbox-to-run-kodi).\n",
    "* See also the existing rulesets in `/usr/share/sandbox`, which includes some useful utility methods."
   ]
  },
  {
   "cell_type": "markdown",
   "metadata": {},
   "source": [
    "## Environment\n",
    "\n",
    "All of the above commands were run on a 2019 Intel Macbook pro running Macos Ventura 13.4. I don't know if they work on ARM Macs, though I presume so."
   ]
  },
  {
   "cell_type": "code",
   "execution_count": null,
   "metadata": {},
   "outputs": [],
   "source": []
  }
 ],
 "metadata": {
  "kernelspec": {
   "display_name": "Bash",
   "language": "bash",
   "name": "bash"
  },
  "language_info": {
   "codemirror_mode": "shell",
   "file_extension": ".sh",
   "mimetype": "text/x-sh",
   "name": "bash"
  }
 },
 "nbformat": 4,
 "nbformat_minor": 5
}

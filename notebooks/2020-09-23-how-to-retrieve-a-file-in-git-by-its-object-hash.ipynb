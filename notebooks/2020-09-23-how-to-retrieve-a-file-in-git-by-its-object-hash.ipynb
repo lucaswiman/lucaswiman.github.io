{
 "cells": [
  {
   "cell_type": "markdown",
   "metadata": {},
   "source": [
    "# How to retrieve a file in git by its object hash"
   ]
  },
  {
   "cell_type": "markdown",
   "metadata": {},
   "source": [
    "In certain circumstances, you may want to retrieve a file in [git](https://en.wikipedia.org/wiki/Git) by some short identifier.\n",
    "\n",
    "For example, you have some relevant file which is useful in reproducing a computation, say for debugging or regression testing. Or, for compliance, you might want to record and easily retrieve which version of a contract template a user saw, but have the version field only change when the _contents_ of the html file changes. (And not when unrelated files change as with a commit hash.)\n",
    "\n",
    "One simple way to achieve this is to use the Git _object hash_. This is the hash of file contents that git uses to store the underlying file."
   ]
  },
  {
   "cell_type": "code",
   "execution_count": 1,
   "metadata": {},
   "outputs": [
    {
     "name": "stdout",
     "output_type": "stream",
     "text": [
      "/private/var/folders/0x/v2lbxd814bv46ngy5zhtsf700000gn/T/tmpc9qdxxjl\r\n"
     ]
    }
   ],
   "source": [
    "# hide\n",
    "import os\n",
    "import tempfile\n",
    "dir = tempfile.mkdtemp()\n",
    "os.chdir(dir)\n",
    "!pwd"
   ]
  },
  {
   "cell_type": "markdown",
   "metadata": {},
   "source": [
    "Now let's create an empty git repository, with one file `foo` with contents `foo\\n`:"
   ]
  },
  {
   "cell_type": "code",
   "execution_count": 2,
   "metadata": {},
   "outputs": [
    {
     "name": "stdout",
     "output_type": "stream",
     "text": [
      "Initialized empty Git repository in /private/var/folders/0x/v2lbxd814bv46ngy5zhtsf700000gn/T/tmpc9qdxxjl/.git/\r\n"
     ]
    }
   ],
   "source": [
    "!git init"
   ]
  },
  {
   "cell_type": "code",
   "execution_count": 3,
   "metadata": {},
   "outputs": [
    {
     "name": "stdout",
     "output_type": "stream",
     "text": [
      "[master (root-commit) 465eb8f] init\r\n",
      " 2 files changed, 2 insertions(+)\r\n",
      " create mode 100644 bar\r\n",
      " create mode 100644 foo\r\n"
     ]
    }
   ],
   "source": [
    "!echo foo > foo\n",
    "!echo bar > bar\n",
    "!git add .\n",
    "!git commit -m 'init'"
   ]
  },
  {
   "cell_type": "markdown",
   "metadata": {},
   "source": [
    "How are these files stored internally in Git? The files are content-addressable by the object hash. We can copute the object hash using the [`git-hash-object` command](https://git-scm.com/docs/git-hash-object):"
   ]
  },
  {
   "cell_type": "code",
   "execution_count": 4,
   "metadata": {},
   "outputs": [
    {
     "name": "stdout",
     "output_type": "stream",
     "text": [
      "257cc5642cb1a054f08cc83f2d943e56fd3ebe99\r\n"
     ]
    }
   ],
   "source": [
    "!cat foo | git hash-object -w --stdin"
   ]
  },
  {
   "cell_type": "markdown",
   "metadata": {},
   "source": [
    "We can then retrieve the contents in a single command with only that hash with the `git cat-file` command:"
   ]
  },
  {
   "cell_type": "code",
   "execution_count": 5,
   "metadata": {},
   "outputs": [
    {
     "name": "stdout",
     "output_type": "stream",
     "text": [
      "foo\r\n"
     ]
    }
   ],
   "source": [
    "!git cat-file -p 257cc5642cb1a054f08cc83f2d943e56fd3ebe99"
   ]
  },
  {
   "cell_type": "markdown",
   "metadata": {},
   "source": [
    "The object hash is computed as the sha1 hash of a particular string constructed from the file's contents (`blob `, followed by the content length as a decimal integer, followed by a zero byte, followed by the file contents).\n",
    "\n",
    "This can be computed in python as follows:"
   ]
  },
  {
   "cell_type": "code",
   "execution_count": 6,
   "metadata": {},
   "outputs": [
    {
     "data": {
      "text/plain": [
       "'257cc5642cb1a054f08cc83f2d943e56fd3ebe99'"
      ]
     },
     "execution_count": 6,
     "metadata": {},
     "output_type": "execute_result"
    }
   ],
   "source": [
    "from hashlib import sha1\n",
    "from typing import Union\n",
    "def git_hash_object(s: Union[str, bytes]) -> str:\n",
    "    if isinstance(s, str):\n",
    "        b = s.encode('utf-8')\n",
    "    else:\n",
    "        b = s\n",
    "    return sha1(b'blob %d\\0%s' % (len(b), b)).hexdigest()\n",
    "\n",
    "git_hash_object('foo\\n')"
   ]
  },
  {
   "cell_type": "markdown",
   "metadata": {},
   "source": [
    "The loading code can just call [`git-cat-file`](https://git-scm.com/docs/git-cat-file) as a subprocess, or find some [python implementation](https://gist.github.com/leonidessaguisagjr/594cd8fbbc9b18a1dde5084d981b8028)."
   ]
  },
  {
   "cell_type": "code",
   "execution_count": 7,
   "metadata": {},
   "outputs": [
    {
     "data": {
      "text/plain": [
       "b'foo\\n'"
      ]
     },
     "execution_count": 7,
     "metadata": {},
     "output_type": "execute_result"
    }
   ],
   "source": [
    "import subprocess\n",
    "def load_git_object_hash(object_hash: str) -> bytes:\n",
    "    result = subprocess.run([\"git\", \"cat-file\", \"-p\", object_hash], capture_output=True)\n",
    "    result.check_returncode()\n",
    "    return result.stdout\n",
    "\n",
    "load_git_object_hash(git_hash_object('foo\\n'))"
   ]
  },
  {
   "cell_type": "markdown",
   "metadata": {},
   "source": [
    "Now, in our contract template example, we might have some code like:"
   ]
  },
  {
   "cell_type": "code",
   "execution_count": 8,
   "metadata": {},
   "outputs": [],
   "source": [
    "def agree_to_contract(user_id):\n",
    "    with open('contract-template.html', 'r') as f:\n",
    "        template = f.read()\n",
    "    terms = get_specific_terms_for_users(user_id)\n",
    "    record_contract(user_id, git_hash_object(template), terms)\n",
    "    return render(template, terms)"
   ]
  },
  {
   "cell_type": "code",
   "execution_count": 9,
   "metadata": {},
   "outputs": [],
   "source": [
    "def display_exact_contract(user_id):\n",
    "    object_hash, terms = get_contract_data(user_id)\n",
    "    template = load_git_object_hash(object_hash).decode()\n",
    "    return render(template, terms)"
   ]
  },
  {
   "cell_type": "markdown",
   "metadata": {},
   "source": [
    "This allows us to easily group templates by version, retrieve old versions, and not waste a bunch of space storing the same template version again and again. You could apply the same principle to lockfiles, configuration files, docker files, self-contained algorithms, etc.\n",
    "\n",
    "For auditing or debugging, this approach has some advantages over recording the commit hash, in that you can retrieve the file of interest in constant time without doing any writes to disk. It has the disadvantage that you need to record every file of interest to completely reproduce the relevant computation. In any case, it's a useful technique in some circumstances, and hopefully helps you to learn a bit about how git operates."
   ]
  },
  {
   "cell_type": "code",
   "execution_count": 10,
   "metadata": {},
   "outputs": [],
   "source": [
    "# hide\n",
    "import shutil\n",
    "shutil.rmtree(dir)"
   ]
  }
 ],
 "metadata": {
  "kernelspec": {
   "display_name": "Python 3",
   "language": "python",
   "name": "python3"
  },
  "language_info": {
   "codemirror_mode": {
    "name": "ipython",
    "version": 3
   },
   "file_extension": ".py",
   "mimetype": "text/x-python",
   "name": "python",
   "nbconvert_exporter": "python",
   "pygments_lexer": "ipython3",
   "version": "3.8.1"
  }
 },
 "nbformat": 4,
 "nbformat_minor": 4
}

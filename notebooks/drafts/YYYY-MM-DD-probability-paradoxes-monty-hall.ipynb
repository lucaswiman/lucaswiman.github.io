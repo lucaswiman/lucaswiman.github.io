{
 "cells": [
  {
   "cell_type": "markdown",
   "metadata": {},
   "source": [
    "# Notes on the Monty Hall Paradox"
   ]
  },
  {
   "cell_type": "markdown",
   "metadata": {},
   "source": [
    "The [Monty Hall](https://en.wikipedia.org/wiki/Monty_Hall_problem) problem is famous largely because of an odd anecdote from 1990, wherein columnist Marilyn Vos Savant (billed as having the highest IQ in the world) received the following brain teaser:\n",
    "> Suppose you're on a game show, and you're given the choice of three doors: Behind one door is a car; behind the others, goats. You pick a door, say No. 1, and the host, who knows what's behind the doors, opens another door, say No. 3, which has a goat. He then says to you, \"Do you want to pick door No. 2?\" Is it to your advantage to switch your choice?\n",
    "\n",
    "She answered that it made sense to switch, with the now-standard reasoning that when you switch, you win if the car was originally behind _either_ of the other doors (probability $2 \\over 3$). On the other hand, if you don't switch, then you only win if the car was behind your door (probability $1\\over 3$). (This led to many readers mansplaining that Vos Savant didn't understand probability, presumably giving her enough overconfidence to write an [abysmal book a few years later](https://www.quora.com/What-do-math-professors-think-of-Marilyn-Vos-Savants-book-The-Worlds-Most-Famous-Math-Problem-The-Proof-of-Fermats-Last-Theorem) implying that Wiles' proof of Fermat's Last Theorem was wrong for spurious reasons. But I digress.)\n",
    "\n",
    "I remain convinced that the main reason this problem is unintuitive is that it's underspecified, and humans tend to think adversarially in cases like this. This may not have been the dynamic in the mansplainy replies to vos Savant's 1990 column, but I think it makes it a bad example today. In particular, the standard solution to the puzzle assumes that the host operates according to  an _algorithm_ like the following:\n",
    "> After the contestant selects a door, the host _must_ select either of the other doors, so long as it does not contain the car.\n",
    "\n",
    "But suppose the strategy used by the host was:\n",
    "> After the contestant selects a door, if the contestant selected the winning door, reveal one of the other doors and let them switch. Otherwise, show them that they picked the wrong door.\n",
    "\n",
    "That strategy is totally consistent with the original prompt. And our strategic instincts say that if someone is offering you a choice where the outcome of that choice makes them less well-off, they're probably trying to rip you off somehow. "
   ]
  },
  {
   "cell_type": "code",
   "execution_count": null,
   "metadata": {},
   "outputs": [],
   "source": []
  }
 ],
 "metadata": {
  "kernelspec": {
   "display_name": "Python 3",
   "language": "python",
   "name": "python3"
  },
  "language_info": {
   "codemirror_mode": {
    "name": "ipython",
    "version": 3
   },
   "file_extension": ".py",
   "mimetype": "text/x-python",
   "name": "python",
   "nbconvert_exporter": "python",
   "pygments_lexer": "ipython3",
   "version": "3.8.1"
  }
 },
 "nbformat": 4,
 "nbformat_minor": 4
}

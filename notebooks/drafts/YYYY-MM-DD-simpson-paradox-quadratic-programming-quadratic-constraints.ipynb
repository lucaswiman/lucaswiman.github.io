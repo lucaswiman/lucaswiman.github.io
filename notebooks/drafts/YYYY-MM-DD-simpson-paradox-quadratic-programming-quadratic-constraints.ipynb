{
 "cells": [
  {
   "cell_type": "markdown",
   "metadata": {},
   "source": [
    "# simpson's paradox quadratic programming"
   ]
  },
  {
   "cell_type": "markdown",
   "metadata": {},
   "source": [
    "In a previous post, we discussed that when subgroup sizes are _exactly_ balanced in terms of number of data points, then Simpson's paradox becomes impossible.\n",
    "\n",
    "One interesting question we could ask is: given a particular level of difference between the sample means $\\epsilon$, how big of an imbalance in the group sizes do we need to attain that? \n",
    "\n",
    "\n",
    "In particular, let $t_i$ and $c_i$ be as above, but $g_{t0}, g_{c0}, g_{t1}, g_{c1}$ denote the group sizes of the four groups. Then we have the following constraints:\n",
    "\n",
    "\n",
    "\\begin{align}\n",
    " \\tag{1} (1-\\epsilon)\\cdot\\frac{t_0}{g_{t0}} &> \\frac{c_0}{g_{c0}} \\\\\n",
    " \\tag{2} (1-\\epsilon)\\cdot\\frac{t_1}{g_{t1}} &> \\frac{c_1}{g_{c1}} \\\\\n",
    " \\tag{3} \\frac{t_0 + t_1}{g_{t0} + g_{t1}} &< \\frac{c_0 + c_1}{g_{c0} + g_{c1}} \\\\\n",
    " \\tag{4} g_{t0} & \\geq t_0 \\\\\n",
    " \\tag{5} g_{c0} & \\geq c_0 \\\\\n",
    " \\tag{6} g_{t1} & \\geq t_1 \\\\\n",
    " \\tag{7} g_{c1} & \\geq c_1 \\\\\n",
    "\\end{align}\n",
    "\n",
    "This is a quadratic program, but we cannot use [optlang](https://pypi.org/project/optlang/) to solve it, since the constraints are quadratic rather than linear. For our objective function, we can assume that $g_{t0} = 1$, and then minimize:\n",
    "$$ (g_{c0} - 1)^2 + (g_{t1} - 1)^2 + (g_{c1} - 1)^2 $$\n",
    "\n",
    "Making this substitution, and cross-multiplying denominators to get a quadratic program, we get:\n",
    "\\begin{align}\n",
    " \\tag{1} (1-\\epsilon) \\cdot t_0 \\cdot g_{c0}  - c_0 &> 0 \\\\\n",
    " \\tag{2} (1-\\epsilon)\\cdot t_1\\cdot g_{c1} - c_1\\cdot g_{t1} &> 0 \\\\\n",
    " \\tag{3} -(t_0 + t_1)\\cdot (g_{c0} + g_{c1}) + (c_0 + c_1) \\cdot (1 + g_{t1}) &> 0\\\\\n",
    " \\tag{4} 1 - t_0 & \\geq 0 \\\\\n",
    " \\tag{5} g_{c0} - c_0 & \\geq 0 \\\\\n",
    " \\tag{6} g_{t1} - t_1 & \\geq 0 \\\\\n",
    " \\tag{7} g_{c1} - c_1 & \\geq 0 \\\\\n",
    "\\end{align}"
   ]
  },
  {
   "cell_type": "code",
   "execution_count": 1,
   "metadata": {},
   "outputs": [
    {
     "ename": "ValueError",
     "evalue": "GLPK only supports linear constraints. ee72425a-f19c-11ea-bdcf-acde48001122: 0 <= -c0 + 0.9*g_c0*t0 is not linear.",
     "output_type": "error",
     "traceback": [
      "\u001b[0;31m---------------------------------------------------------------------------\u001b[0m",
      "\u001b[0;31mValueError\u001b[0m                                Traceback (most recent call last)",
      "\u001b[0;32m<ipython-input-1-3cd9eb037dac>\u001b[0m in \u001b[0;36m<module>\u001b[0;34m\u001b[0m\n\u001b[1;32m     20\u001b[0m     \u001b[0mstatus\u001b[0m \u001b[0;34m=\u001b[0m \u001b[0mmodel\u001b[0m\u001b[0;34m.\u001b[0m\u001b[0moptimize\u001b[0m\u001b[0;34m(\u001b[0m\u001b[0;34m)\u001b[0m\u001b[0;34m\u001b[0m\u001b[0;34m\u001b[0m\u001b[0m\n\u001b[1;32m     21\u001b[0m \u001b[0;34m\u001b[0m\u001b[0m\n\u001b[0;32m---> 22\u001b[0;31m \u001b[0msolve_optimization\u001b[0m\u001b[0;34m(\u001b[0m\u001b[0;36m1\u001b[0m\u001b[0;34m/\u001b[0m\u001b[0;36m10\u001b[0m\u001b[0;34m)\u001b[0m\u001b[0;34m\u001b[0m\u001b[0;34m\u001b[0m\u001b[0m\n\u001b[0m\u001b[1;32m     23\u001b[0m \u001b[0;34m\u001b[0m\u001b[0m\n",
      "\u001b[0;32m<ipython-input-1-3cd9eb037dac>\u001b[0m in \u001b[0;36msolve_optimization\u001b[0;34m(eps)\u001b[0m\n\u001b[1;32m      7\u001b[0m     \u001b[0mt0\u001b[0m\u001b[0;34m,\u001b[0m \u001b[0mc0\u001b[0m\u001b[0;34m,\u001b[0m \u001b[0mt1\u001b[0m\u001b[0;34m,\u001b[0m \u001b[0mc1\u001b[0m\u001b[0;34m,\u001b[0m \u001b[0mg_c0\u001b[0m\u001b[0;34m,\u001b[0m \u001b[0mg_t1\u001b[0m\u001b[0;34m,\u001b[0m \u001b[0mg_c1\u001b[0m \u001b[0;34m=\u001b[0m \u001b[0mnonnegative_vars\u001b[0m\u001b[0;34m(\u001b[0m\u001b[0;34m't0, c0, t1, c1, g_c0, g_t1, g_c1'\u001b[0m\u001b[0;34m)\u001b[0m\u001b[0;34m\u001b[0m\u001b[0;34m\u001b[0m\u001b[0m\n\u001b[1;32m      8\u001b[0m     eqn_num_to_constraint = {\n\u001b[0;32m----> 9\u001b[0;31m         \u001b[0;34m\"(1)\"\u001b[0m\u001b[0;34m:\u001b[0m \u001b[0mConstraint\u001b[0m\u001b[0;34m(\u001b[0m\u001b[0;34m(\u001b[0m\u001b[0;36m1\u001b[0m \u001b[0;34m-\u001b[0m \u001b[0meps\u001b[0m\u001b[0;34m)\u001b[0m \u001b[0;34m*\u001b[0m \u001b[0mt0\u001b[0m \u001b[0;34m*\u001b[0m \u001b[0mg_c0\u001b[0m \u001b[0;34m-\u001b[0m \u001b[0mc0\u001b[0m\u001b[0;34m,\u001b[0m \u001b[0mlb\u001b[0m\u001b[0;34m=\u001b[0m\u001b[0;36m0\u001b[0m\u001b[0;34m)\u001b[0m\u001b[0;34m,\u001b[0m\u001b[0;34m\u001b[0m\u001b[0;34m\u001b[0m\u001b[0m\n\u001b[0m\u001b[1;32m     10\u001b[0m         \u001b[0;34m\"(2)\"\u001b[0m\u001b[0;34m:\u001b[0m \u001b[0mConstraint\u001b[0m\u001b[0;34m(\u001b[0m\u001b[0;34m(\u001b[0m\u001b[0;36m1\u001b[0m\u001b[0;34m-\u001b[0m\u001b[0meps\u001b[0m\u001b[0;34m)\u001b[0m \u001b[0;34m*\u001b[0m \u001b[0mt1\u001b[0m \u001b[0;34m*\u001b[0m \u001b[0mg_c1\u001b[0m \u001b[0;34m-\u001b[0m \u001b[0mc1\u001b[0m \u001b[0;34m*\u001b[0m \u001b[0mg_t1\u001b[0m\u001b[0;34m,\u001b[0m \u001b[0mlb\u001b[0m\u001b[0;34m=\u001b[0m\u001b[0;36m0\u001b[0m\u001b[0;34m)\u001b[0m\u001b[0;34m,\u001b[0m\u001b[0;34m\u001b[0m\u001b[0;34m\u001b[0m\u001b[0m\n\u001b[1;32m     11\u001b[0m         \u001b[0;34m\"(3)\"\u001b[0m\u001b[0;34m:\u001b[0m \u001b[0mConstraint\u001b[0m\u001b[0;34m(\u001b[0m\u001b[0;34m-\u001b[0m\u001b[0;34m(\u001b[0m\u001b[0mt0\u001b[0m \u001b[0;34m+\u001b[0m \u001b[0mt1\u001b[0m\u001b[0;34m)\u001b[0m \u001b[0;34m*\u001b[0m \u001b[0;34m(\u001b[0m\u001b[0mg_c0\u001b[0m \u001b[0;34m+\u001b[0m \u001b[0mg_c1\u001b[0m\u001b[0;34m)\u001b[0m \u001b[0;34m+\u001b[0m \u001b[0;34m(\u001b[0m\u001b[0mc0\u001b[0m \u001b[0;34m+\u001b[0m \u001b[0mc1\u001b[0m\u001b[0;34m)\u001b[0m \u001b[0;34m*\u001b[0m \u001b[0;34m(\u001b[0m\u001b[0;36m1\u001b[0m \u001b[0;34m+\u001b[0m \u001b[0mg_t1\u001b[0m\u001b[0;34m)\u001b[0m\u001b[0;34m,\u001b[0m \u001b[0mlb\u001b[0m\u001b[0;34m=\u001b[0m\u001b[0;36m0\u001b[0m\u001b[0;34m)\u001b[0m\u001b[0;34m,\u001b[0m\u001b[0;34m\u001b[0m\u001b[0;34m\u001b[0m\u001b[0m\n",
      "\u001b[0;32m~/personal/lucaswiman.github.io/.venv/lib/python3.8/site-packages/optlang/glpk_interface.py\u001b[0m in \u001b[0;36m__init__\u001b[0;34m(self, expression, sloppy, *args, **kwargs)\u001b[0m\n\u001b[1;32m    165\u001b[0m         \u001b[0;32mif\u001b[0m \u001b[0;32mnot\u001b[0m \u001b[0msloppy\u001b[0m\u001b[0;34m:\u001b[0m\u001b[0;34m\u001b[0m\u001b[0;34m\u001b[0m\u001b[0m\n\u001b[1;32m    166\u001b[0m             \u001b[0;32mif\u001b[0m \u001b[0;32mnot\u001b[0m \u001b[0mself\u001b[0m\u001b[0;34m.\u001b[0m\u001b[0mis_Linear\u001b[0m\u001b[0;34m:\u001b[0m\u001b[0;34m\u001b[0m\u001b[0;34m\u001b[0m\u001b[0m\n\u001b[0;32m--> 167\u001b[0;31m                 raise ValueError(\n\u001b[0m\u001b[1;32m    168\u001b[0m                     \"GLPK only supports linear constraints. %s is not linear.\" % self)\n\u001b[1;32m    169\u001b[0m \u001b[0;34m\u001b[0m\u001b[0m\n",
      "\u001b[0;31mValueError\u001b[0m: GLPK only supports linear constraints. ee72425a-f19c-11ea-bdcf-acde48001122: 0 <= -c0 + 0.9*g_c0*t0 is not linear."
     ]
    }
   ],
   "source": [
    "from optlang import Model, Variable, Constraint, Objective\n",
    "\n",
    "def nonnegative_vars(comma_separated_names: str):\n",
    "    return [Variable(name.strip(), lb=0) for name in comma_separated_names.split(',')]\n",
    "\n",
    "def solve_optimization(eps):\n",
    "    t0, c0, t1, c1, g_c0, g_t1, g_c1 = nonnegative_vars('t0, c0, t1, c1, g_c0, g_t1, g_c1')\n",
    "    eqn_num_to_constraint = {\n",
    "        \"(1)\": Constraint((1 - eps) * t0 * g_c0 - c0, lb=0),\n",
    "        \"(2)\": Constraint((1-eps) * t1 * g_c1 - c1 * g_t1, lb=0),\n",
    "        \"(3)\": Constraint(-(t0 + t1) * (g_c0 + g_c1) + (c0 + c1) * (1 + g_t1), lb=0),\n",
    "        \"(4)\": Constraint(1 - t0, lb=0),\n",
    "        \"(5)\": Constraint(g_c0 - c0, lb=0),\n",
    "        \"(6)\": Constraint(g_t1 - t1, lb=0),\n",
    "        \"(7)\": Constraint(g_c1 - c1, lb=0),\n",
    "    }\n",
    "    objective = Objective((g_c0 - 1) ** 2 + (g_t1 - 1) ** 2 + (g_c1 - 1) ** 2, direction=\"min\")\n",
    "    model = Model(name=f\"Simpson finder epsilon={eps}\")\n",
    "    model.add(list(eqn_num_to_constraint.values()))\n",
    "    status = model.optimize()\n",
    "    \n",
    "solve_optimization(1/10)\n",
    "    "
   ]
  },
  {
   "cell_type": "markdown",
   "metadata": {},
   "source": [
    "## TODO: Use NonlinearConstraint in scipy.optimize, with sympy computing the Jacobian and Hessian."
   ]
  },
  {
   "cell_type": "code",
   "execution_count": null,
   "metadata": {},
   "outputs": [],
   "source": []
  }
 ],
 "metadata": {
  "kernelspec": {
   "display_name": "Python 3",
   "language": "python",
   "name": "python3"
  },
  "language_info": {
   "codemirror_mode": {
    "name": "ipython",
    "version": 3
   },
   "file_extension": ".py",
   "mimetype": "text/x-python",
   "name": "python",
   "nbconvert_exporter": "python",
   "pygments_lexer": "ipython3",
   "version": "3.8.1"
  }
 },
 "nbformat": 4,
 "nbformat_minor": 4
}
